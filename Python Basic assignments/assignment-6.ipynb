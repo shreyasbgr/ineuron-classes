{
 "cells": [
  {
   "cell_type": "code",
   "execution_count": null,
   "id": "8ebeaca1",
   "metadata": {},
   "outputs": [],
   "source": [
    "1. What are escape characters, and how do you use them?\n",
    "\n",
    "Escape characters are used to insert characters in a string, which are illegeal to insert. To use them, enter the character to\n",
    "be inserted after \\.\n",
    "Example, since it is illegal to use the character double quotes in a string which is enclosed in double quotes, we use \\\".\n",
    "s=\"Tina said,\\\"Hi there!\\\"\""
   ]
  },
  {
   "cell_type": "code",
   "execution_count": null,
   "id": "d665788b",
   "metadata": {},
   "outputs": [],
   "source": [
    "2. What do the escape characters n and t stand for?\n",
    "\n",
    "\\n - New line\n",
    "\\t - Tab"
   ]
  },
  {
   "cell_type": "code",
   "execution_count": null,
   "id": "5b98a65e",
   "metadata": {},
   "outputs": [],
   "source": [
    "3. What is the way to include backslash characters in a string?\n",
    "\n",
    "We can use the escape character \\\\ to include backslash characters in a string."
   ]
  },
  {
   "cell_type": "code",
   "execution_count": null,
   "id": "e72563c1",
   "metadata": {},
   "outputs": [],
   "source": [
    "4. The string \"Howl's Moving Castle\" is a correct value. Why isn't the single quote character in the word Howl's not escaped\n",
    "a problem?\n",
    "\n",
    "Since the string is enclosed in double quotes, there is no problem to the compiler when a single quote character is used in\n",
    "the string."
   ]
  },
  {
   "cell_type": "code",
   "execution_count": null,
   "id": "e1442ef4",
   "metadata": {},
   "outputs": [],
   "source": [
    "5. How do you write a string of newlines if you don't want to use the n character?\n",
    "\n",
    "We can use triple quotes to create a string consisting of newlines.\n",
    "For example,\n",
    "football_teams =\"\"\"Man-U\n",
    "Man-City\n",
    "Arsenal\n",
    "Liverpool\"\"\"\n",
    "printing football_teams will print each football team on a new line, as follows:\n",
    "Man-U\n",
    "Man-City\n",
    "Arsenal\n",
    "Liverpool"
   ]
  },
  {
   "cell_type": "code",
   "execution_count": 10,
   "id": "8b26db70",
   "metadata": {},
   "outputs": [],
   "source": [
    "6. What are the values of the given expressions?\n",
    "'Hello, world!'[1]\n",
    "'Hello, world!'[0:5]\n",
    "'Hello, world!'[:5]\n",
    "'Hello, world!'[3:]\n",
    "\n",
    "'e'\n",
    "'Hello'\n",
    "'Hello'\n",
    "'lo, world!'"
   ]
  },
  {
   "cell_type": "code",
   "execution_count": 15,
   "id": "c13f9b4e",
   "metadata": {},
   "outputs": [
    {
     "data": {
      "text/plain": [
       "'lo, world!'"
      ]
     },
     "execution_count": 15,
     "metadata": {},
     "output_type": "execute_result"
    }
   ],
   "source": [
    "7. What are the values of the following expressions?\n",
    "'Hello'.upper()\n",
    "'Hello'.upper().isupper()\n",
    "'Hello'.upper().lower()\n",
    "\n",
    "'HELLO'\n",
    "True\n",
    "'hello'"
   ]
  },
  {
   "cell_type": "code",
   "execution_count": 18,
   "id": "e7cb96a1",
   "metadata": {},
   "outputs": [
    {
     "data": {
      "text/plain": [
       "'hello'"
      ]
     },
     "execution_count": 18,
     "metadata": {},
     "output_type": "execute_result"
    }
   ],
   "source": [
    "8. What are the values of the following expressions?\n",
    "'Remember, remember, the fifth of July.'.split()\n",
    "'-'.join('There can only one.'.split())\n",
    "\n",
    "['Remember,', 'remember,', 'the', 'fifth', 'of', 'July.']\n",
    "'There-can-only-one.'"
   ]
  },
  {
   "cell_type": "code",
   "execution_count": 20,
   "id": "cfdb3f27",
   "metadata": {},
   "outputs": [
    {
     "data": {
      "text/plain": [
       "'There-can-only-one.'"
      ]
     },
     "execution_count": 20,
     "metadata": {},
     "output_type": "execute_result"
    }
   ],
   "source": [
    "9. What are the methods for right-justifying, left-justifying, and centering a string?\n",
    "\n",
    "rjust(), ljust(), center() are the methods for right-justifying, left-justifying and centering a string respectively."
   ]
  },
  {
   "cell_type": "code",
   "execution_count": null,
   "id": "20a5920f",
   "metadata": {},
   "outputs": [],
   "source": [
    "10. What is the best way to remove whitespace characters from the start or end?\n",
    "\n",
    "strip() function can be used to remove whitespace characters from start or end."
   ]
  }
 ],
 "metadata": {
  "kernelspec": {
   "display_name": "Python 3 (ipykernel)",
   "language": "python",
   "name": "python3"
  },
  "language_info": {
   "codemirror_mode": {
    "name": "ipython",
    "version": 3
   },
   "file_extension": ".py",
   "mimetype": "text/x-python",
   "name": "python",
   "nbconvert_exporter": "python",
   "pygments_lexer": "ipython3",
   "version": "3.9.2"
  }
 },
 "nbformat": 4,
 "nbformat_minor": 5
}
