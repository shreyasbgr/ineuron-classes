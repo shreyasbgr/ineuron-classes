{
 "cells": [
  {
   "cell_type": "code",
   "execution_count": null,
   "id": "04b2aacc",
   "metadata": {},
   "outputs": [],
   "source": [
    "1. What is the name of the feature responsible for generating Regex objects?\n",
    "\n",
    "The re module is used for working with regex in python. re.compile() function is responsible for generating regex objects."
   ]
  },
  {
   "cell_type": "code",
   "execution_count": null,
   "id": "23fa1d89",
   "metadata": {},
   "outputs": [],
   "source": [
    "2. Why do raw strings often appear in Regex objects?\n",
    "\n",
    "Raw strings are used in regex objects so that backslash characters should not be escaped."
   ]
  },
  {
   "cell_type": "code",
   "execution_count": 1,
   "id": "c4ebb0a9",
   "metadata": {},
   "outputs": [],
   "source": [
    "3. What is the return value of the search() method?\n",
    "\n",
    "The search() method returns an object of re.Match class."
   ]
  },
  {
   "cell_type": "code",
   "execution_count": 6,
   "id": "efcf8c35",
   "metadata": {},
   "outputs": [
    {
     "name": "stdout",
     "output_type": "stream",
     "text": [
      "<class 're.Match'>\n"
     ]
    }
   ],
   "source": [
    "4. From a Match item, how do you get the actual strings that match the pattern?\n",
    "\n",
    "On the match item, the function group() is called to get the actual string that matches the pattern."
   ]
  },
  {
   "cell_type": "code",
   "execution_count": null,
   "id": "5757aea5",
   "metadata": {},
   "outputs": [],
   "source": [
    "5. In the regex which created from the r'(\\d\\d\\d)-(\\d\\d\\d-\\d\\d\\d\\d)', what does group zero cover? Group 2? Group 1?\n",
    "\n",
    "If the string passed to the regex object's search method is 415-555-4242, the output for match object's group function is as\n",
    "follows:\n",
    "    group(0) - 415-555-4242 which is the full match string\n",
    "    group(1) - 415 which is the first group of the match string\n",
    "    group(2) - 555-4242 which is the second group of the match string"
   ]
  },
  {
   "cell_type": "code",
   "execution_count": null,
   "id": "39cbc9bf",
   "metadata": {},
   "outputs": [],
   "source": [
    "6. In standard expression syntax, parentheses and intervals have distinct meanings. How can you tell a regex that you want it \n",
    "to fit real parentheses and periods?\n",
    "\n",
    "To match parentheses, \\( and \\) characters can be used in regex. To match periods, \\. character can be used in regex."
   ]
  },
  {
   "cell_type": "code",
   "execution_count": 14,
   "id": "71ff1ca8",
   "metadata": {},
   "outputs": [
    {
     "name": "stdout",
     "output_type": "stream",
     "text": [
      "(7.)\n"
     ]
    }
   ],
   "source": [
    "7. The findall() method returns a string list or a list of string tuples. What causes it to return one of the two options?\n",
    "\n",
    "If the regex expression for the findall() function contains multiple groups within parentheses, it returns a list of string \n",
    "tuples but if the regex expression contains only one group, it returns a list of strings."
   ]
  },
  {
   "cell_type": "code",
   "execution_count": 6,
   "id": "3424c972",
   "metadata": {},
   "outputs": [
    {
     "name": "stdout",
     "output_type": "stream",
     "text": [
      "['5-8', '9-7']\n"
     ]
    }
   ],
   "source": [
    "8. In standard expressions, what does the | character mean?\n",
    "\n",
    "The | character means either or. So the matching is done for either of the two expressions."
   ]
  },
  {
   "cell_type": "code",
   "execution_count": 11,
   "id": "a2f401d2",
   "metadata": {},
   "outputs": [
    {
     "data": {
      "text/plain": [
       "['ok', 'ok']"
      ]
     },
     "execution_count": 11,
     "metadata": {},
     "output_type": "execute_result"
    }
   ],
   "source": [
    "9. In regular expressions, what does the character . stand for?\n",
    "\n",
    ". stands for any character except newline character."
   ]
  },
  {
   "cell_type": "code",
   "execution_count": null,
   "id": "4db099b2",
   "metadata": {},
   "outputs": [],
   "source": [
    "10.In regular expressions, what is the difference between the + and * characters?\n",
    "\n",
    "+ means one or more occurences. * means zero or more occurences."
   ]
  },
  {
   "cell_type": "code",
   "execution_count": null,
   "id": "01aa4219",
   "metadata": {},
   "outputs": [],
   "source": [
    "11. What is the difference between {4} and {4,5} in regular expression?\n",
    "\n",
    "{4} matches all 4 numbered occurences. {4,5} matches either 4 or 5 numbered occurences."
   ]
  },
  {
   "cell_type": "code",
   "execution_count": null,
   "id": "e060aa88",
   "metadata": {},
   "outputs": [],
   "source": [
    "12. What do you mean by the \\d, \\w, and \\s shorthand character classes signify in regular expressions?\n",
    "\n",
    "\\d matches for digits.\n",
    "\\w matches for word characters (a-Z,digits or _)\n",
    "\\s matches for whitespace character"
   ]
  },
  {
   "cell_type": "code",
   "execution_count": null,
   "id": "a91b9d1c",
   "metadata": {},
   "outputs": [],
   "source": [
    "13. What do means by \\D, \\W, and \\S shorthand character classes signify in regular expressions?\n",
    "\n",
    "\\D matches for not a digit\n",
    "\\W matches for not a word character\n",
    "\\S matches for not a whitespace character"
   ]
  },
  {
   "cell_type": "code",
   "execution_count": null,
   "id": "6e568752",
   "metadata": {},
   "outputs": [],
   "source": [
    "14. What is the difference between .*? and .*?\n",
    "\n",
    "Taking an example, if the string = \"eeeAiiZuuuuAoooZeeee\"\n",
    ".*? - non-greedy approach. it will try to match the smallest possible string. in the example above, it will match the string \n",
    "      \"AiiZ\" and \"AoooZ\"\n",
    ".* - greedy approach. it will try to match the largest possible string. in the example above, it will match \"AiiZuuuuAoooZ\""
   ]
  },
  {
   "cell_type": "code",
   "execution_count": null,
   "id": "1c41246d",
   "metadata": {},
   "outputs": [],
   "source": [
    "15. What is the syntax for matching both numbers and lowercase letters with a character class?\n",
    "\n"
   ]
  },
  {
   "cell_type": "code",
   "execution_count": 17,
   "id": "9b18e512",
   "metadata": {},
   "outputs": [
    {
     "data": {
      "text/plain": [
       "['abc kop', '']"
      ]
     },
     "execution_count": 17,
     "metadata": {},
     "output_type": "execute_result"
    }
   ],
   "source": [
    "import re\n",
    "regex = \".*\"\n",
    "string = \"abc kop\"\n",
    "re.findall(regex,string)"
   ]
  },
  {
   "cell_type": "code",
   "execution_count": null,
   "id": "0497f63b",
   "metadata": {},
   "outputs": [],
   "source": []
  }
 ],
 "metadata": {
  "kernelspec": {
   "display_name": "Python 3 (ipykernel)",
   "language": "python",
   "name": "python3"
  },
  "language_info": {
   "codemirror_mode": {
    "name": "ipython",
    "version": 3
   },
   "file_extension": ".py",
   "mimetype": "text/x-python",
   "name": "python",
   "nbconvert_exporter": "python",
   "pygments_lexer": "ipython3",
   "version": "3.9.2"
  }
 },
 "nbformat": 4,
 "nbformat_minor": 5
}
