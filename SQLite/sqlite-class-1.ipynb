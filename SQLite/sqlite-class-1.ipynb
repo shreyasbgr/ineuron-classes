{
 "cells": [
  {
   "cell_type": "code",
   "execution_count": 1,
   "id": "6c8d4c94",
   "metadata": {},
   "outputs": [],
   "source": [
    "import sqlite3"
   ]
  },
  {
   "cell_type": "code",
   "execution_count": 23,
   "id": "47bc07f7",
   "metadata": {},
   "outputs": [],
   "source": [
    "db = sqlite3.connect('ineuron.db')"
   ]
  },
  {
   "cell_type": "code",
   "execution_count": 3,
   "id": "edc6523e",
   "metadata": {},
   "outputs": [
    {
     "name": "stdout",
     "output_type": "stream",
     "text": [
      " Volume in drive C has no label.\n",
      " Volume Serial Number is DE4E-8ADB\n",
      "\n",
      " Directory of C:\\Users\\shreyas.banagar\\OneDrive - Zycus\\iNeuron\\Repos\\ineuron-classes\\SQLite\n",
      "\n",
      "04-Mar-22  08:54 PM    <DIR>          .\n",
      "04-Mar-22  08:54 PM    <DIR>          ..\n",
      "04-Mar-22  08:51 PM    <DIR>          .ipynb_checkpoints\n",
      "04-Mar-22  08:53 PM                 0 ineuron.db\n",
      "04-Mar-22  08:54 PM               923 sqlite-class-1.ipynb\n",
      "               2 File(s)            923 bytes\n",
      "               3 Dir(s)  166,163,542,016 bytes free\n"
     ]
    }
   ],
   "source": [
    "ls"
   ]
  },
  {
   "cell_type": "code",
   "execution_count": 4,
   "id": "250a41a3",
   "metadata": {},
   "outputs": [],
   "source": [
    "c = db.cursor()"
   ]
  },
  {
   "cell_type": "code",
   "execution_count": 5,
   "id": "90871c20",
   "metadata": {},
   "outputs": [
    {
     "data": {
      "text/plain": [
       "<sqlite3.Cursor at 0x1e17850b030>"
      ]
     },
     "execution_count": 5,
     "metadata": {},
     "output_type": "execute_result"
    }
   ],
   "source": [
    "c.execute('create table first_table(name text, rollno int, marks real)')"
   ]
  },
  {
   "cell_type": "code",
   "execution_count": 6,
   "id": "242441a6",
   "metadata": {},
   "outputs": [
    {
     "name": "stdout",
     "output_type": "stream",
     "text": [
      " Volume in drive C has no label.\n",
      " Volume Serial Number is DE4E-8ADB\n",
      "\n",
      " Directory of C:\\Users\\shreyas.banagar\\OneDrive - Zycus\\iNeuron\\Repos\\ineuron-classes\\SQLite\n",
      "\n",
      "04-Mar-22  08:59 PM    <DIR>          .\n",
      "04-Mar-22  08:59 PM    <DIR>          ..\n",
      "04-Mar-22  08:51 PM    <DIR>          .ipynb_checkpoints\n",
      "04-Mar-22  08:59 PM             8,192 ineuron.db\n",
      "04-Mar-22  08:58 PM             2,045 sqlite-class-1.ipynb\n",
      "               2 File(s)         10,237 bytes\n",
      "               3 Dir(s)  166,124,818,432 bytes free\n"
     ]
    }
   ],
   "source": [
    "ls"
   ]
  },
  {
   "cell_type": "code",
   "execution_count": 12,
   "id": "8286061f",
   "metadata": {},
   "outputs": [
    {
     "data": {
      "text/plain": [
       "<sqlite3.Cursor at 0x1e17850b030>"
      ]
     },
     "execution_count": 12,
     "metadata": {},
     "output_type": "execute_result"
    }
   ],
   "source": [
    "c.execute('insert into first_table values(\"shreyas\",3,94.2)')"
   ]
  },
  {
   "cell_type": "code",
   "execution_count": 16,
   "id": "3de463d2",
   "metadata": {},
   "outputs": [],
   "source": [
    "data = c.execute('select * from first_table')"
   ]
  },
  {
   "cell_type": "code",
   "execution_count": 17,
   "id": "1abfb04e",
   "metadata": {},
   "outputs": [
    {
     "name": "stdout",
     "output_type": "stream",
     "text": [
      "('shreyas', 3, 94.0)\n",
      "('shreyas', 3, 94.2)\n",
      "('shreyas', 3, 94.2)\n",
      "('shreyas', 3, 94.2)\n",
      "('shreyas', 3, 94.2)\n",
      "('shreyas', 3, 94.2)\n"
     ]
    }
   ],
   "source": [
    "for row in data:\n",
    "    print(row)"
   ]
  },
  {
   "cell_type": "code",
   "execution_count": 18,
   "id": "8b14f966",
   "metadata": {},
   "outputs": [
    {
     "data": {
      "text/plain": [
       "<sqlite3.Cursor at 0x1e17850b030>"
      ]
     },
     "execution_count": 18,
     "metadata": {},
     "output_type": "execute_result"
    }
   ],
   "source": [
    "c.execute('update first_table set marks=99 where name=\"shreyas\"')"
   ]
  },
  {
   "cell_type": "code",
   "execution_count": 19,
   "id": "8d12aad7",
   "metadata": {},
   "outputs": [],
   "source": [
    "db.commit()"
   ]
  },
  {
   "cell_type": "code",
   "execution_count": 20,
   "id": "1da414d0",
   "metadata": {},
   "outputs": [
    {
     "name": "stdout",
     "output_type": "stream",
     "text": [
      "('shreyas', 3, 99.0)\n",
      "('shreyas', 3, 99.0)\n",
      "('shreyas', 3, 99.0)\n",
      "('shreyas', 3, 99.0)\n",
      "('shreyas', 3, 99.0)\n",
      "('shreyas', 3, 99.0)\n"
     ]
    }
   ],
   "source": [
    "data = c.execute('select * from first_table')\n",
    "for row in data:\n",
    "    print(row)"
   ]
  },
  {
   "cell_type": "code",
   "execution_count": 21,
   "id": "80fb7ff5",
   "metadata": {},
   "outputs": [],
   "source": [
    "# Close the db just like a file\n",
    "db.close()"
   ]
  },
  {
   "cell_type": "code",
   "execution_count": 24,
   "id": "09844a53",
   "metadata": {},
   "outputs": [],
   "source": [
    "db = sqlite3.connect('ineuron.db')\n",
    "c = db.cursor()"
   ]
  },
  {
   "cell_type": "code",
   "execution_count": 27,
   "id": "ee256dc5",
   "metadata": {},
   "outputs": [],
   "source": [
    "data = c.execute('select * from first_table where marks > 100')\n",
    "for row in data:\n",
    "    print(row)"
   ]
  },
  {
   "cell_type": "code",
   "execution_count": null,
   "id": "81f487a2",
   "metadata": {},
   "outputs": [],
   "source": []
  }
 ],
 "metadata": {
  "kernelspec": {
   "display_name": "Python 3 (ipykernel)",
   "language": "python",
   "name": "python3"
  },
  "language_info": {
   "codemirror_mode": {
    "name": "ipython",
    "version": 3
   },
   "file_extension": ".py",
   "mimetype": "text/x-python",
   "name": "python",
   "nbconvert_exporter": "python",
   "pygments_lexer": "ipython3",
   "version": "3.7.11"
  }
 },
 "nbformat": 4,
 "nbformat_minor": 5
}
