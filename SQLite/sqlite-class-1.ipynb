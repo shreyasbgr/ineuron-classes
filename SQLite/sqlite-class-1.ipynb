{
 "cells": [
  {
   "cell_type": "code",
   "execution_count": 1,
   "id": "6c8d4c94",
   "metadata": {},
   "outputs": [],
   "source": [
    "import sqlite3"
   ]
  },
  {
   "cell_type": "code",
   "execution_count": 2,
   "id": "47bc07f7",
   "metadata": {},
   "outputs": [],
   "source": [
    "# Creates the db file\n",
    "db = sqlite3.connect('ineuron.db')"
   ]
  },
  {
   "cell_type": "code",
   "execution_count": 3,
   "id": "edc6523e",
   "metadata": {},
   "outputs": [
    {
     "name": "stdout",
     "output_type": "stream",
     "text": [
      " Volume in drive C has no label.\n",
      " Volume Serial Number is DE4E-8ADB\n",
      "\n",
      " Directory of C:\\Users\\shreyas.banagar\\OneDrive - Zycus\\iNeuron\\Repos\\ineuron-classes\\SQLite\n",
      "\n",
      "13-Mar-22  05:02 PM    <DIR>          .\n",
      "13-Mar-22  05:02 PM    <DIR>          ..\n",
      "04-Mar-22  08:51 PM    <DIR>          .ipynb_checkpoints\n",
      "13-Mar-22  05:02 PM                 0 ineuron.db\n",
      "04-Mar-22  11:20 PM             6,056 sqlite-class-1.ipynb\n",
      "               2 File(s)          6,056 bytes\n",
      "               3 Dir(s)  163,015,315,456 bytes free\n"
     ]
    }
   ],
   "source": [
    "ls"
   ]
  },
  {
   "cell_type": "code",
   "execution_count": 4,
   "id": "250a41a3",
   "metadata": {},
   "outputs": [],
   "source": [
    "c = db.cursor()"
   ]
  },
  {
   "cell_type": "code",
   "execution_count": 5,
   "id": "90871c20",
   "metadata": {},
   "outputs": [
    {
     "data": {
      "text/plain": [
       "<sqlite3.Cursor at 0x17d24ebe810>"
      ]
     },
     "execution_count": 5,
     "metadata": {},
     "output_type": "execute_result"
    }
   ],
   "source": [
    "c.execute('create table first_table(name text, rollno int, marks real)')"
   ]
  },
  {
   "cell_type": "code",
   "execution_count": 6,
   "id": "242441a6",
   "metadata": {},
   "outputs": [
    {
     "name": "stdout",
     "output_type": "stream",
     "text": [
      " Volume in drive C has no label.\n",
      " Volume Serial Number is DE4E-8ADB\n",
      "\n",
      " Directory of C:\\Users\\shreyas.banagar\\OneDrive - Zycus\\iNeuron\\Repos\\ineuron-classes\\SQLite\n",
      "\n",
      "13-Mar-22  05:03 PM    <DIR>          .\n",
      "13-Mar-22  05:03 PM    <DIR>          ..\n",
      "04-Mar-22  08:51 PM    <DIR>          .ipynb_checkpoints\n",
      "13-Mar-22  05:03 PM             8,192 ineuron.db\n",
      "04-Mar-22  11:20 PM             6,056 sqlite-class-1.ipynb\n",
      "               2 File(s)         14,248 bytes\n",
      "               3 Dir(s)  163,013,251,072 bytes free\n"
     ]
    }
   ],
   "source": [
    "ls"
   ]
  },
  {
   "cell_type": "code",
   "execution_count": 14,
   "id": "8286061f",
   "metadata": {},
   "outputs": [
    {
     "data": {
      "text/plain": [
       "<sqlite3.Cursor at 0x17d24ebe810>"
      ]
     },
     "execution_count": 14,
     "metadata": {},
     "output_type": "execute_result"
    }
   ],
   "source": [
    "c.execute('insert into first_table values(\"shreyas\",3,94.2)')"
   ]
  },
  {
   "cell_type": "code",
   "execution_count": 15,
   "id": "3de463d2",
   "metadata": {},
   "outputs": [],
   "source": [
    "data = c.execute('select * from first_table')"
   ]
  },
  {
   "cell_type": "code",
   "execution_count": 16,
   "id": "1abfb04e",
   "metadata": {},
   "outputs": [
    {
     "name": "stdout",
     "output_type": "stream",
     "text": [
      "('shreyas', 3, 94.2)\n",
      "('shreyas', 3, 94.2)\n",
      "('shreyas', 3, 94.2)\n",
      "('shreyas', 3, 94.2)\n",
      "('shreyas', 3, 94.2)\n",
      "('shreyas', 3, 94.2)\n"
     ]
    }
   ],
   "source": [
    "for row in data:\n",
    "    print(row)"
   ]
  },
  {
   "cell_type": "code",
   "execution_count": 17,
   "id": "8b14f966",
   "metadata": {},
   "outputs": [
    {
     "data": {
      "text/plain": [
       "<sqlite3.Cursor at 0x17d24ebe810>"
      ]
     },
     "execution_count": 17,
     "metadata": {},
     "output_type": "execute_result"
    }
   ],
   "source": [
    "c.execute('update first_table set marks=99 where name=\"shreyas\"')"
   ]
  },
  {
   "cell_type": "code",
   "execution_count": 18,
   "id": "8d12aad7",
   "metadata": {},
   "outputs": [],
   "source": [
    "db.commit()"
   ]
  },
  {
   "cell_type": "code",
   "execution_count": 19,
   "id": "1da414d0",
   "metadata": {},
   "outputs": [
    {
     "name": "stdout",
     "output_type": "stream",
     "text": [
      "('shreyas', 3, 99.0)\n",
      "('shreyas', 3, 99.0)\n",
      "('shreyas', 3, 99.0)\n",
      "('shreyas', 3, 99.0)\n",
      "('shreyas', 3, 99.0)\n",
      "('shreyas', 3, 99.0)\n"
     ]
    }
   ],
   "source": [
    "data = c.execute('select * from first_table')\n",
    "for row in data:\n",
    "    print(row)"
   ]
  },
  {
   "cell_type": "code",
   "execution_count": 20,
   "id": "80fb7ff5",
   "metadata": {},
   "outputs": [],
   "source": [
    "# Close the db just like a file\n",
    "db.close()"
   ]
  },
  {
   "cell_type": "code",
   "execution_count": 22,
   "id": "09844a53",
   "metadata": {},
   "outputs": [],
   "source": [
    "db = sqlite3.connect('person.db')\n",
    "c = db.cursor()"
   ]
  },
  {
   "cell_type": "code",
   "execution_count": 23,
   "id": "482314aa",
   "metadata": {},
   "outputs": [
    {
     "data": {
      "text/plain": [
       "<sqlite3.Cursor at 0x17d24ea19d0>"
      ]
     },
     "execution_count": 23,
     "metadata": {},
     "output_type": "execute_result"
    }
   ],
   "source": [
    "c.execute('create table person_table(name text, emailid text, age int, salary real)')"
   ]
  },
  {
   "cell_type": "code",
   "execution_count": 29,
   "id": "ee245ce6",
   "metadata": {},
   "outputs": [
    {
     "data": {
      "text/plain": [
       "<sqlite3.Cursor at 0x17d24ea19d0>"
      ]
     },
     "execution_count": 29,
     "metadata": {},
     "output_type": "execute_result"
    }
   ],
   "source": [
    "c.execute('insert into person_table values(\"shreyas\",\"shreyasbanagar7@gmail.com\",23,12345.65)')"
   ]
  },
  {
   "cell_type": "code",
   "execution_count": 30,
   "id": "ee256dc5",
   "metadata": {},
   "outputs": [
    {
     "name": "stdout",
     "output_type": "stream",
     "text": [
      "('shreyas', 'shreyasbanagar7@gmail.com', 23, 12345.65)\n",
      "('shreyas', 'shreyasbanagar7@gmail.com', 23, 12345.65)\n",
      "('shreyas', 'shreyasbanagar7@gmail.com', 23, 12345.65)\n",
      "('shreyas', 'shreyasbanagar7@gmail.com', 23, 12345.65)\n",
      "('shreyas', 'shreyasbanagar7@gmail.com', 23, 12345.65)\n"
     ]
    }
   ],
   "source": [
    "data = c.execute('select * from person_table')\n",
    "for row in data:\n",
    "    print(row)"
   ]
  },
  {
   "cell_type": "code",
   "execution_count": 32,
   "id": "81f487a2",
   "metadata": {},
   "outputs": [],
   "source": [
    "db.commit()"
   ]
  },
  {
   "cell_type": "code",
   "execution_count": 33,
   "id": "34c30f9d",
   "metadata": {},
   "outputs": [],
   "source": [
    "db.close()"
   ]
  },
  {
   "cell_type": "code",
   "execution_count": 34,
   "id": "a4d9fd75",
   "metadata": {},
   "outputs": [],
   "source": [
    "db = sqlite3.connect('ineuron.db')\n",
    "c=db.cursor()"
   ]
  },
  {
   "cell_type": "code",
   "execution_count": 35,
   "id": "9ce49000",
   "metadata": {},
   "outputs": [
    {
     "data": {
      "text/plain": [
       "<sqlite3.Cursor at 0x17d25000e30>"
      ]
     },
     "execution_count": 35,
     "metadata": {},
     "output_type": "execute_result"
    }
   ],
   "source": [
    "c.execute('create table second_table(name text, id int)')"
   ]
  },
  {
   "cell_type": "code",
   "execution_count": 48,
   "id": "9ea631ba",
   "metadata": {},
   "outputs": [
    {
     "data": {
      "text/plain": [
       "<sqlite3.Cursor at 0x17d25000e30>"
      ]
     },
     "execution_count": 48,
     "metadata": {},
     "output_type": "execute_result"
    }
   ],
   "source": [
    "c.execute('insert into second_table values(\"shreyas\",77)')"
   ]
  },
  {
   "cell_type": "code",
   "execution_count": 50,
   "id": "4acf25cc",
   "metadata": {},
   "outputs": [
    {
     "name": "stdout",
     "output_type": "stream",
     "text": [
      "('shreyas', 3, 99.0)\n",
      "('shreyas', 3, 99.0)\n",
      "('shreyas', 3, 99.0)\n",
      "('shreyas', 3, 99.0)\n",
      "('shreyas', 3, 99.0)\n",
      "('shreyas', 3, 99.0)\n"
     ]
    }
   ],
   "source": [
    "data = c.execute('select * from first_table')\n",
    "for row in data:\n",
    "    print(row)"
   ]
  },
  {
   "cell_type": "code",
   "execution_count": 44,
   "id": "890d41de",
   "metadata": {},
   "outputs": [],
   "source": [
    "tables = c.fetchall()\n",
    "for table_name in tables:\n",
    "    print(table_name[1])"
   ]
  },
  {
   "cell_type": "code",
   "execution_count": 51,
   "id": "f9d51214",
   "metadata": {},
   "outputs": [],
   "source": [
    "db.close()"
   ]
  },
  {
   "cell_type": "code",
   "execution_count": 52,
   "id": "cd90ea52",
   "metadata": {},
   "outputs": [],
   "source": [
    "db = sqlite3.connect('person.db')"
   ]
  },
  {
   "cell_type": "code",
   "execution_count": 53,
   "id": "055344b9",
   "metadata": {},
   "outputs": [],
   "source": [
    "c=db.cursor()"
   ]
  },
  {
   "cell_type": "code",
   "execution_count": 54,
   "id": "5ba30a4c",
   "metadata": {},
   "outputs": [],
   "source": [
    "data = c.execute('SELECT * FROM person_table limit 2')"
   ]
  },
  {
   "cell_type": "code",
   "execution_count": 55,
   "id": "cec60b8a",
   "metadata": {},
   "outputs": [
    {
     "name": "stdout",
     "output_type": "stream",
     "text": [
      "('shreyas', 'shreyasbanagar7@gmail.com', 23, 12345.65)\n",
      "('shreyas', 'shreyasbanagar7@gmail.com', 23, 12345.65)\n"
     ]
    }
   ],
   "source": [
    "for row in data:\n",
    "    print(row)"
   ]
  },
  {
   "cell_type": "code",
   "execution_count": null,
   "id": "5d6a509f",
   "metadata": {},
   "outputs": [],
   "source": []
  }
 ],
 "metadata": {
  "kernelspec": {
   "display_name": "Python 3 (ipykernel)",
   "language": "python",
   "name": "python3"
  },
  "language_info": {
   "codemirror_mode": {
    "name": "ipython",
    "version": 3
   },
   "file_extension": ".py",
   "mimetype": "text/x-python",
   "name": "python",
   "nbconvert_exporter": "python",
   "pygments_lexer": "ipython3",
   "version": "3.7.11"
  }
 },
 "nbformat": 4,
 "nbformat_minor": 5
}
