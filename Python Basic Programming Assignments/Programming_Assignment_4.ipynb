{
 "cells": [
  {
   "cell_type": "markdown",
   "id": "bf6416d1",
   "metadata": {},
   "source": [
    "### Write a Python Program to Find the Factorial of a Number?"
   ]
  },
  {
   "cell_type": "code",
   "execution_count": 1,
   "id": "177e4d63",
   "metadata": {},
   "outputs": [
    {
     "name": "stdout",
     "output_type": "stream",
     "text": [
      "Enter the no:5\n",
      "Factorial of 5 is 120\n"
     ]
    }
   ],
   "source": [
    "no=int(input(\"Enter the no:\"))\n",
    "fact=1\n",
    "for i in range(2,no+1):\n",
    "    fact=fact*i\n",
    "print(f\"Factorial of {no} is {fact}\")"
   ]
  },
  {
   "cell_type": "markdown",
   "id": "13e089f2",
   "metadata": {},
   "source": [
    "### Write a Python Program to Display the multiplication Table?"
   ]
  },
  {
   "cell_type": "code",
   "execution_count": 2,
   "id": "18d8b75c",
   "metadata": {},
   "outputs": [
    {
     "name": "stdout",
     "output_type": "stream",
     "text": [
      "Enter the no:2\n",
      "Multiplication table for 2 is:\n",
      "2x1 = 2\n",
      "2x2 = 4\n",
      "2x3 = 6\n",
      "2x4 = 8\n",
      "2x5 = 10\n",
      "2x6 = 12\n",
      "2x7 = 14\n",
      "2x8 = 16\n",
      "2x9 = 18\n",
      "2x10 = 20\n"
     ]
    }
   ],
   "source": [
    "no=int(input(\"Enter the no:\"))\n",
    "print(f\"Multiplication table for {no} is:\")\n",
    "for i in range(1,11):\n",
    "    print(f\"{no}x{i} = {no*i}\")\n"
   ]
  },
  {
   "cell_type": "markdown",
   "id": "c6f592d0",
   "metadata": {},
   "source": [
    "### Write a Python Program to Print the Fibonacci sequence?"
   ]
  },
  {
   "cell_type": "code",
   "execution_count": 6,
   "id": "fdb2fcb2",
   "metadata": {},
   "outputs": [
    {
     "name": "stdout",
     "output_type": "stream",
     "text": [
      "Enter the no of terms in the fibonacci sequence:5\n",
      "Fibonacci sequence for 5 terms is:\n",
      "0\n",
      "1\n",
      "1\n",
      "2\n",
      "3\n"
     ]
    }
   ],
   "source": [
    "n=int(input(\"Enter the no of terms in the fibonacci sequence:\"))\n",
    "a,b=0,1\n",
    "print(f\"Fibonacci sequence for {n} terms is:\")\n",
    "if n<=0:\n",
    "    print(\"Please enter a valid no of terms\")\n",
    "elif n==1:\n",
    "    print(a)\n",
    "else:\n",
    "    print(a)\n",
    "    print(b)\n",
    "    n=n-2\n",
    "    for i in range(n):\n",
    "        c=a+b\n",
    "        a=b\n",
    "        b=c\n",
    "        print(c)"
   ]
  },
  {
   "cell_type": "markdown",
   "id": "e254757d",
   "metadata": {},
   "source": [
    "### Write a Python Program to Check Armstrong Number?"
   ]
  },
  {
   "cell_type": "code",
   "execution_count": 18,
   "id": "dc0cac1f",
   "metadata": {},
   "outputs": [
    {
     "name": "stdout",
     "output_type": "stream",
     "text": [
      "Enter the no:153\n",
      "153 is an armstrong number\n"
     ]
    }
   ],
   "source": [
    "import math\n",
    "no=int(input(\"Enter the no:\"))\n",
    "no_copy=no\n",
    "arm_sum=0\n",
    "while no!=0:\n",
    "    r=no%10\n",
    "    arm_sum=arm_sum+r**3\n",
    "    no=no//10\n",
    "\n",
    "if arm_sum == no_copy:\n",
    "    print(f\"{no_copy} is an armstrong number\")"
   ]
  },
  {
   "cell_type": "markdown",
   "id": "f4e19146",
   "metadata": {},
   "source": [
    "### Write a Python Program to Find Armstrong Number in an Interval?"
   ]
  },
  {
   "cell_type": "code",
   "execution_count": 20,
   "id": "e9fc6455",
   "metadata": {},
   "outputs": [
    {
     "name": "stdout",
     "output_type": "stream",
     "text": [
      "Enter the start:0\n",
      "Enter the end:200\n",
      "Armstrong numbers between 0 and 200 are:\n",
      "0\n",
      "1\n",
      "153\n"
     ]
    }
   ],
   "source": [
    "start=int(input(\"Enter the start:\"))\n",
    "end=int(input(\"Enter the end:\"))\n",
    "def is_armstrong(no):\n",
    "    no_copy=no\n",
    "    arm_sum=0\n",
    "    while no!=0:\n",
    "        r=no%10\n",
    "        arm_sum=arm_sum+r**3\n",
    "        no=no//10\n",
    "\n",
    "    if arm_sum == no_copy:\n",
    "        return True\n",
    "    else:\n",
    "        return False\n",
    "\n",
    "print(f\"Armstrong numbers between {start} and {end} are:\")\n",
    "for i in range(start,end+1):\n",
    "    if is_armstrong(i):\n",
    "        print(i)"
   ]
  },
  {
   "cell_type": "markdown",
   "id": "710f4085",
   "metadata": {},
   "source": [
    "### Write a Python Program to Find the Sum of Natural Numbers?"
   ]
  },
  {
   "cell_type": "code",
   "execution_count": 21,
   "id": "f825390c",
   "metadata": {},
   "outputs": [
    {
     "name": "stdout",
     "output_type": "stream",
     "text": [
      "Enter the number of natural numbers whose sum is desired:10\n",
      "Sum of 10 natural numbers is 55\n"
     ]
    }
   ],
   "source": [
    "n=int(input(\"Enter the number of natural numbers whose sum is desired:\"))\n",
    "sum=0\n",
    "for i in range(n+1):\n",
    "    sum=sum+i\n",
    "\n",
    "print(f\"Sum of {n} natural numbers is {sum}\")"
   ]
  }
 ],
 "metadata": {
  "kernelspec": {
   "display_name": "Python 3 (ipykernel)",
   "language": "python",
   "name": "python3"
  },
  "language_info": {
   "codemirror_mode": {
    "name": "ipython",
    "version": 3
   },
   "file_extension": ".py",
   "mimetype": "text/x-python",
   "name": "python",
   "nbconvert_exporter": "python",
   "pygments_lexer": "ipython3",
   "version": "3.9.2"
  }
 },
 "nbformat": 4,
 "nbformat_minor": 5
}
