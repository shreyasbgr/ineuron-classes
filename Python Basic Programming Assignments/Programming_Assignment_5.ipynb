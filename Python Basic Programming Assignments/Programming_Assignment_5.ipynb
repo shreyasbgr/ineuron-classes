{
 "cells": [
  {
   "cell_type": "markdown",
   "id": "c96423e1",
   "metadata": {},
   "source": [
    "### Write a Python Program to Find LCM?"
   ]
  },
  {
   "cell_type": "code",
   "execution_count": 3,
   "id": "0dcd70e7",
   "metadata": {},
   "outputs": [
    {
     "name": "stdout",
     "output_type": "stream",
     "text": [
      "Enter 1st number:3\n",
      "Enter 2nd number:9\n",
      "LCM of 3 and 9 is 9\n"
     ]
    }
   ],
   "source": [
    "no1=int(input(\"Enter 1st number:\"))\n",
    "no2=int(input(\"Enter 2nd number:\"))\n",
    "max_no=max(no1,no2)\n",
    "\n",
    "while max_no%no1!=0 or max_no%no2!=0:\n",
    "    max_no=max_no+1\n",
    "\n",
    "print(f\"LCM of {no1} and {no2} is {max_no}\")"
   ]
  },
  {
   "cell_type": "markdown",
   "id": "630bcd7f",
   "metadata": {},
   "source": [
    "### Write a Python Program to Find HCF?"
   ]
  },
  {
   "cell_type": "code",
   "execution_count": 5,
   "id": "f3e06e1c",
   "metadata": {},
   "outputs": [
    {
     "name": "stdout",
     "output_type": "stream",
     "text": [
      "Enter 1st number:6\n",
      "Enter 2nd number:9\n",
      "HCF of 6 and 9 is 3\n"
     ]
    }
   ],
   "source": [
    "no1=int(input(\"Enter 1st number:\"))\n",
    "no2=int(input(\"Enter 2nd number:\"))\n",
    "min_no=min(no1,no2)\n",
    "hcf=1\n",
    "for i in range(2,min_no+1):\n",
    "    if no1%i==0 and no2%i==0:\n",
    "        hcf=i\n",
    "\n",
    "print(f\"HCF of {no1} and {no2} is {hcf}\")"
   ]
  },
  {
   "cell_type": "markdown",
   "id": "dad77224",
   "metadata": {},
   "source": [
    "### Write a Python Program to Convert Decimal to Binary, Octal and Hexadecimal?"
   ]
  },
  {
   "cell_type": "code",
   "execution_count": 27,
   "id": "5c3a0bce",
   "metadata": {},
   "outputs": [
    {
     "name": "stdout",
     "output_type": "stream",
     "text": [
      "Enter the decimal number:26\n",
      "Binary representation of number is: 11010\n",
      "Octal representation of number is: 32\n",
      "Hexadecimal representation of number is: 1A\n"
     ]
    }
   ],
   "source": [
    "no=int(input(\"Enter the decimal number:\"))\n",
    "no_copy=no\n",
    "string_binary=''\n",
    "string_octal=''\n",
    "string_hex=''\n",
    "hex_map={\n",
    "    1: '1', 2: '2', 3: '3', 4: '4', 5: '5', 6: '6', 7: '7', 8: '8', 9: '9', 10: 'A', 11:'B', 12: 'C', 13: 'D', 14:'E', 15: 'F'\n",
    "}\n",
    "while no!=0:\n",
    "    r=no%2\n",
    "    string_binary=str(r)+string_binary\n",
    "    no=no//2\n",
    "\n",
    "no=no_copy\n",
    "while no!=0:\n",
    "    r=no%8\n",
    "    string_octal=str(r)+string_octal\n",
    "    no=no//8\n",
    "\n",
    "no=no_copy\n",
    "while no!=0:\n",
    "    r=no%16\n",
    "    string_hex=hex_map[r]+string_hex\n",
    "    no=no//16\n",
    "\n",
    "print(\"Binary representation of number is: \"+string_binary)\n",
    "print(\"Octal representation of number is: \"+string_octal)\n",
    "print(\"Hexadecimal representation of number is: \"+string_hex)"
   ]
  },
  {
   "cell_type": "markdown",
   "id": "a6b8fb37",
   "metadata": {},
   "source": [
    "### Write a Python Program To Find ASCII value of a character?"
   ]
  },
  {
   "cell_type": "code",
   "execution_count": 37,
   "id": "cc818f17",
   "metadata": {},
   "outputs": [
    {
     "name": "stdout",
     "output_type": "stream",
     "text": [
      "Enter the character: c\n",
      "ASCII value of c is  99\n"
     ]
    }
   ],
   "source": [
    "c=input(\"Enter the character: \")\n",
    "print(f\"ASCII value of {c} is \",ord(c))"
   ]
  },
  {
   "cell_type": "markdown",
   "id": "d67c98d5",
   "metadata": {},
   "source": [
    "### Write a Python Program to Make a Simple Calculator with 4 basic mathematical operations?"
   ]
  },
  {
   "cell_type": "code",
   "execution_count": 40,
   "id": "30854925",
   "metadata": {},
   "outputs": [
    {
     "name": "stdout",
     "output_type": "stream",
     "text": [
      "Enter the first number:10\n",
      "Enter the second number:5\n",
      "Enter the operation to be performed:/\n",
      "10 / 5 = 2.0\n"
     ]
    }
   ],
   "source": [
    "no1=int(input(\"Enter the first number:\"))\n",
    "no2=int(input(\"Enter the second number:\"))\n",
    "opr=input(\"Enter the operation to be performed:\")\n",
    "if opr=='+':\n",
    "    ans=no1+no2\n",
    "elif opr=='-':\n",
    "    ans=no1-no2\n",
    "elif opr=='*':\n",
    "    ans=no1*no2\n",
    "elif opr=='/':\n",
    "    ans=no1/no2\n",
    "else:\n",
    "    print(\"Enter a valid operation.\")\n",
    "    \n",
    "print(f\"{no1} {opr} {no2} = {ans}\")"
   ]
  }
 ],
 "metadata": {
  "kernelspec": {
   "display_name": "Python 3 (ipykernel)",
   "language": "python",
   "name": "python3"
  },
  "language_info": {
   "codemirror_mode": {
    "name": "ipython",
    "version": 3
   },
   "file_extension": ".py",
   "mimetype": "text/x-python",
   "name": "python",
   "nbconvert_exporter": "python",
   "pygments_lexer": "ipython3",
   "version": "3.9.2"
  }
 },
 "nbformat": 4,
 "nbformat_minor": 5
}
