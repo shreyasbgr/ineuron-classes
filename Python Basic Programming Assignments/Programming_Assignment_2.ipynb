{
 "cells": [
  {
   "cell_type": "markdown",
   "id": "ad0763eb",
   "metadata": {},
   "source": [
    "### Write a Python program to convert kilometers to miles?"
   ]
  },
  {
   "cell_type": "code",
   "execution_count": 2,
   "id": "99ffc695",
   "metadata": {},
   "outputs": [
    {
     "name": "stdout",
     "output_type": "stream",
     "text": [
      "Enter distance in kilometers:5\n",
      "The distance in miles is: 3.106855\n"
     ]
    }
   ],
   "source": [
    "km=float(input(\"Enter distance in kilometers:\"))\n",
    "miles = km*0.621371\n",
    "print(\"The distance in miles is:\",miles)"
   ]
  },
  {
   "cell_type": "markdown",
   "id": "56697c47",
   "metadata": {},
   "source": [
    "### Write a Python program to convert Celsius to Fahrenheit?"
   ]
  },
  {
   "cell_type": "code",
   "execution_count": 3,
   "id": "b7e5cc1e",
   "metadata": {},
   "outputs": [
    {
     "name": "stdout",
     "output_type": "stream",
     "text": [
      "Enter the temperature in celcius:4\n",
      "The temperature in fahrenheit is 39.2\n"
     ]
    }
   ],
   "source": [
    "celcius=float(input(\"Enter the temperature in celcius:\"))\n",
    "fahrenheit=celcius*9/5+32\n",
    "print(\"The temperature in fahrenheit is\",fahrenheit)"
   ]
  },
  {
   "cell_type": "markdown",
   "id": "3aeba751",
   "metadata": {},
   "source": [
    "### Write a Python program to display calendar?"
   ]
  },
  {
   "cell_type": "code",
   "execution_count": 8,
   "id": "ad9630fe",
   "metadata": {},
   "outputs": [
    {
     "name": "stdout",
     "output_type": "stream",
     "text": [
      "    January 2022\n",
      "Mo Tu We Th Fr Sa Su\n",
      "                1  2\n",
      " 3  4  5  6  7  8  9\n",
      "10 11 12 13 14 15 16\n",
      "17 18 19 20 21 22 23\n",
      "24 25 26 27 28 29 30\n",
      "31\n",
      "\n"
     ]
    }
   ],
   "source": [
    "#Program to print the calendar of the current month and year.\n",
    "import calendar\n",
    "from datetime import datetime\n",
    "year=datetime.now().year\n",
    "month=datetime.now().month\n",
    "print(calendar.month(year,month))"
   ]
  },
  {
   "cell_type": "markdown",
   "id": "e1b00ece",
   "metadata": {},
   "source": [
    "### Write a Python program to solve quadratic equation?"
   ]
  },
  {
   "cell_type": "code",
   "execution_count": 10,
   "id": "ea617378",
   "metadata": {},
   "outputs": [
    {
     "name": "stdout",
     "output_type": "stream",
     "text": [
      "Enter a:1\n",
      "Enter b:-5\n",
      "Enter c:6\n",
      "The roots of the quadratic equation are 2.0 and 3.0\n"
     ]
    }
   ],
   "source": [
    "import math\n",
    "a=float(input(\"Enter a:\"))\n",
    "b=float(input(\"Enter b:\"))\n",
    "c=float(input(\"Enter c:\"))\n",
    "x1=(-1*b-math.sqrt(b**2-4*a*c))/(2*a)\n",
    "x2=(-1*b+math.sqrt(b**2-4*a*c))/(2*a)\n",
    "print(f\"The roots of the quadratic equation are {x1} and {x2}\")"
   ]
  },
  {
   "cell_type": "markdown",
   "id": "c585f6ee",
   "metadata": {},
   "source": [
    "### Write a Python program to swap two variables without temp variable?"
   ]
  },
  {
   "cell_type": "code",
   "execution_count": 11,
   "id": "ece26eca",
   "metadata": {},
   "outputs": [
    {
     "name": "stdout",
     "output_type": "stream",
     "text": [
      "a= 20\n",
      "b= 10\n"
     ]
    }
   ],
   "source": [
    "a=10\n",
    "b=20\n",
    "a,b=b,a\n",
    "print(\"a=\",a)\n",
    "print(\"b=\",b)"
   ]
  }
 ],
 "metadata": {
  "kernelspec": {
   "display_name": "Python 3 (ipykernel)",
   "language": "python",
   "name": "python3"
  },
  "language_info": {
   "codemirror_mode": {
    "name": "ipython",
    "version": 3
   },
   "file_extension": ".py",
   "mimetype": "text/x-python",
   "name": "python",
   "nbconvert_exporter": "python",
   "pygments_lexer": "ipython3",
   "version": "3.9.2"
  }
 },
 "nbformat": 4,
 "nbformat_minor": 5
}
