{
 "cells": [
  {
   "cell_type": "code",
   "execution_count": 3,
   "metadata": {},
   "outputs": [
    {
     "data": {
      "text/plain": [
       "29"
      ]
     },
     "execution_count": 3,
     "metadata": {},
     "output_type": "execute_result"
    }
   ],
   "source": [
    "s=\"This is a basic python class!\"\n",
    "len(s)"
   ]
  },
  {
   "cell_type": "code",
   "execution_count": 4,
   "metadata": {},
   "outputs": [
    {
     "data": {
      "text/plain": [
       "29"
      ]
     },
     "execution_count": 4,
     "metadata": {},
     "output_type": "execute_result"
    }
   ],
   "source": [
    "count=0\n",
    "for i in s:\n",
    "    count+=1\n",
    "count"
   ]
  },
  {
   "cell_type": "code",
   "execution_count": 6,
   "metadata": {},
   "outputs": [
    {
     "name": "stdout",
     "output_type": "stream",
     "text": [
      "! s s a l c   n o h t y p   c i s a b   a   s i   s i h T "
     ]
    }
   ],
   "source": [
    "i=len(s)-1\n",
    "while i>=0:\n",
    "    print(s[i],end=\" \")\n",
    "    i-=1"
   ]
  },
  {
   "cell_type": "code",
   "execution_count": 9,
   "metadata": {},
   "outputs": [
    {
     "name": "stdout",
     "output_type": "stream",
     "text": [
      "4\n"
     ]
    },
    {
     "data": {
      "text/plain": [
       "{'i': True, 'n': False, 'e': True, 'u': True, 'r': False, 'o': True}"
      ]
     },
     "execution_count": 9,
     "metadata": {},
     "output_type": "execute_result"
    }
   ],
   "source": [
    "s=\"ineuron\"\n",
    "v=\"AaEeIiOoUu\"\n",
    "\n",
    "vowels=0\n",
    "vowels_dict={}\n",
    "for i in s:\n",
    "    if i in v:\n",
    "        vowels+=1\n",
    "        vowels_dict[i]=True\n",
    "    else:\n",
    "        vowels_dict[i]=False\n",
    "\n",
    "print(vowels)\n",
    "vowels_dict"
   ]
  },
  {
   "cell_type": "code",
   "execution_count": 10,
   "metadata": {},
   "outputs": [
    {
     "data": {
      "text/plain": [
       "True"
      ]
     },
     "execution_count": 10,
     "metadata": {},
     "output_type": "execute_result"
    }
   ],
   "source": [
    "'s' in 'shreyas'"
   ]
  },
  {
   "cell_type": "code",
   "execution_count": 13,
   "metadata": {},
   "outputs": [
    {
     "name": "stdout",
     "output_type": "stream",
     "text": [
      "True\n"
     ]
    }
   ],
   "source": [
    "s=\"malayalam\"\n",
    "pal=True\n",
    "for i in range(len(s)):\n",
    "    if s[i]!=s[len(s)-1-i]:\n",
    "        pal=False\n",
    "        break\n",
    "\n",
    "print(pal)"
   ]
  },
  {
   "cell_type": "code",
   "execution_count": 14,
   "metadata": {},
   "outputs": [
    {
     "name": "stdout",
     "output_type": "stream",
     "text": [
      "['Canada', 'United States']\n",
      "['india', 'China']\n"
     ]
    }
   ],
   "source": [
    "d={'india': 'IN',\n",
    "    'Canada': 'CA',\n",
    "    'China': 'CH',\n",
    "    'United States': 'US'}\n",
    "l1=[]\n",
    "l2=[]\n",
    "for key in d:\n",
    "    if len(key)>5:\n",
    "        l1.append(key)\n",
    "    else:\n",
    "        l2.append(key)\n",
    "\n",
    "print(l1)\n",
    "print(l2)"
   ]
  },
  {
   "cell_type": "code",
   "execution_count": 20,
   "metadata": {},
   "outputs": [
    {
     "name": "stdout",
     "output_type": "stream",
     "text": [
      "14\n",
      "45\n"
     ]
    }
   ],
   "source": [
    "d_1={\n",
    "    'ineuron':\n",
    "    {\n",
    "        'a': 14,\n",
    "        'b': 10,\n",
    "        'c': 4\n",
    "    },\n",
    "    'course':\n",
    "    {\n",
    "        'd':45,\n",
    "        'e':14,\n",
    "        'f':1\n",
    "    }\n",
    "}\n",
    "\n",
    "for i in d_1:\n",
    "    max_val=d_1[i][list(d_1[i].keys())[0]]\n",
    "    for j in d_1[i]:\n",
    "        if d_1[i][j]>max_val:\n",
    "            max_val=d_1[i][j]\n",
    "    print(max_val)"
   ]
  },
  {
   "cell_type": "code",
   "execution_count": null,
   "metadata": {},
   "outputs": [],
   "source": []
  }
 ],
 "metadata": {
  "interpreter": {
   "hash": "9d3417ee13c15e8da8fc01b28149f62d44cc6af84e5884a946e1ca2988d58401"
  },
  "kernelspec": {
   "display_name": "Python 3.9.2 64-bit ('venv': venv)",
   "language": "python",
   "name": "python3"
  },
  "language_info": {
   "codemirror_mode": {
    "name": "ipython",
    "version": 3
   },
   "file_extension": ".py",
   "mimetype": "text/x-python",
   "name": "python",
   "nbconvert_exporter": "python",
   "pygments_lexer": "ipython3",
   "version": "3.9.2"
  },
  "orig_nbformat": 4
 },
 "nbformat": 4,
 "nbformat_minor": 2
}
