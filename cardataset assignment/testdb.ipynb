{
 "cells": [
  {
   "cell_type": "code",
   "execution_count": 93,
   "id": "1cba4d53",
   "metadata": {},
   "outputs": [],
   "source": [
    "import csv\n",
    "import mysql.connector as conn"
   ]
  },
  {
   "cell_type": "code",
   "execution_count": 94,
   "id": "74f0b23d",
   "metadata": {},
   "outputs": [],
   "source": [
    "mydb = conn.connect(host = 'bjnqjjyrdwceenpesae2-mysql.services.clever-cloud.com', user='ulbbyxidrojqjova', password='ZH9q5Hd0m9gBPhAZM7hy')"
   ]
  },
  {
   "cell_type": "code",
   "execution_count": 95,
   "id": "6b5edce4",
   "metadata": {},
   "outputs": [],
   "source": [
    "cursor=mydb.cursor()\n",
    "cursor.execute('use bjnqjjyrdwceenpesae2')"
   ]
  },
  {
   "cell_type": "code",
   "execution_count": 5,
   "id": "7e9e54d4",
   "metadata": {},
   "outputs": [],
   "source": [
    "cursor.execute('create table testtable(id int(3), no int(3))')"
   ]
  },
  {
   "cell_type": "code",
   "execution_count": 88,
   "id": "7a0e2698",
   "metadata": {},
   "outputs": [
    {
     "name": "stdout",
     "output_type": "stream",
     "text": [
      "(NULL, '77', 'ok@ok.com')\n"
     ]
    }
   ],
   "source": [
    "value = ('?', '77', 'ok@ok.com')\n",
    "str_value = str(value).replace('\\'?\\'','NULL')\n",
    "print(str_value)"
   ]
  },
  {
   "cell_type": "code",
   "execution_count": 89,
   "id": "41af4a98",
   "metadata": {},
   "outputs": [],
   "source": [
    "cursor.execute(f\"insert into bjnqjjyrdwceenpesae2.testtable values{str_value}\")"
   ]
  },
  {
   "cell_type": "code",
   "execution_count": 91,
   "id": "ee7793d2",
   "metadata": {},
   "outputs": [
    {
     "name": "stdout",
     "output_type": "stream",
     "text": [
      "?,69,ok@ok.com\n",
      "5,?,hi@hi.com\n"
     ]
    }
   ],
   "source": [
    "with open('testdb.data','r') as f:\n",
    "    test_data=csv.reader(f,delimiter='\\n')\n",
    "    for line in test_data:\n",
    "        print(line[0])\n",
    "        values=str(tuple(line[0].split(',')))\n",
    "        values=values.replace('\\'?\\'','NULL')\n",
    "        cursor.execute(f\"insert into bjnqjjyrdwceenpesae2.testtable values{values}\")"
   ]
  },
  {
   "cell_type": "code",
   "execution_count": 92,
   "id": "0b9f205a",
   "metadata": {},
   "outputs": [],
   "source": [
    "mydb.commit()"
   ]
  },
  {
   "cell_type": "code",
   "execution_count": 19,
   "id": "b6766292",
   "metadata": {},
   "outputs": [],
   "source": [
    "cursor.execute('alter table testtable add column email varchar(255)')"
   ]
  },
  {
   "cell_type": "code",
   "execution_count": null,
   "id": "9e7f05de",
   "metadata": {},
   "outputs": [],
   "source": []
  }
 ],
 "metadata": {
  "kernelspec": {
   "display_name": "Python 3 (ipykernel)",
   "language": "python",
   "name": "python3"
  },
  "language_info": {
   "codemirror_mode": {
    "name": "ipython",
    "version": 3
   },
   "file_extension": ".py",
   "mimetype": "text/x-python",
   "name": "python",
   "nbconvert_exporter": "python",
   "pygments_lexer": "ipython3",
   "version": "3.9.2"
  }
 },
 "nbformat": 4,
 "nbformat_minor": 5
}
