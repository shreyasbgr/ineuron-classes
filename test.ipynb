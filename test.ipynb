{
 "cells": [
  {
   "cell_type": "code",
   "execution_count": 1,
   "metadata": {},
   "outputs": [],
   "source": [
    "def askinput():\n",
    "    execution_complete=False\n",
    "    while not execution_complete:\n",
    "        try:\n",
    "            no=int(input(\"Enter a no:\"))\n",
    "        \n",
    "        except Exception as e:\n",
    "            print(\"Pls enter an integer.\")\n",
    "        else:\n",
    "            execution_complete=True\n"
   ]
  },
  {
   "cell_type": "code",
   "execution_count": 3,
   "metadata": {},
   "outputs": [
    {
     "name": "stdout",
     "output_type": "stream",
     "text": [
      "Enter a no:y\n",
      "Pls enter an integer.\n",
      "Enter a no:u\n",
      "Pls enter an integer.\n",
      "Enter a no:k\n",
      "Pls enter an integer.\n",
      "Enter a no:67\n"
     ]
    }
   ],
   "source": [
    "askinput()"
   ]
  },
  {
   "cell_type": "code",
   "execution_count": 2,
   "metadata": {},
   "outputs": [],
   "source": [
    "import logging"
   ]
  },
  {
   "cell_type": "code",
   "execution_count": 3,
   "metadata": {},
   "outputs": [],
   "source": [
    "logging.basicConfig(filename=\"test.log\", level = logging.INFO)"
   ]
  },
  {
   "cell_type": "code",
   "execution_count": 4,
   "metadata": {},
   "outputs": [
    {
     "data": {
      "text/plain": [
       "'C:\\\\Users\\\\shreyas.banagar\\\\OneDrive - Zycus\\\\iNeuron\\\\Repos\\\\test-python-repo'"
      ]
     },
     "execution_count": 4,
     "metadata": {},
     "output_type": "execute_result"
    }
   ],
   "source": [
    "pwd"
   ]
  },
  {
   "cell_type": "code",
   "execution_count": 5,
   "metadata": {},
   "outputs": [],
   "source": [
    "logging.info(\"Sample info log\")\n",
    "logging.warning(\"Sample warning log\")\n",
    "logging.error(\"Sample error log\")"
   ]
  },
  {
   "cell_type": "code",
   "execution_count": null,
   "metadata": {},
   "outputs": [],
   "source": []
  }
 ],
 "metadata": {
  "interpreter": {
   "hash": "02c798afe7fc1813374a5710501aceceb3da4e686f5c5b50f6a52fad78341212"
  },
  "kernelspec": {
   "display_name": "Python 3 (ipykernel)",
   "language": "python",
   "name": "python3"
  },
  "language_info": {
   "codemirror_mode": {
    "name": "ipython",
    "version": 3
   },
   "file_extension": ".py",
   "mimetype": "text/x-python",
   "name": "python",
   "nbconvert_exporter": "python",
   "pygments_lexer": "ipython3",
   "version": "3.9.2"
  }
 },
 "nbformat": 4,
 "nbformat_minor": 2
}
